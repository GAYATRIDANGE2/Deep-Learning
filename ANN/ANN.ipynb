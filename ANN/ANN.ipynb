{
 "cells": [
  {
   "cell_type": "markdown",
   "id": "d384641d",
   "metadata": {},
   "source": [
    "# ANN (Artificial Neural Network)\n",
    " - Artificial neural networks are one of the main tools used in machine learning. As the “neural” part of their name suggests, they are brain-inspired systems that are intended to replicate the way that we humans learn. Neural networks consist of input and output layers, as well as (in most cases) a hidden layer consisting of units that transform the input into something that the output layer can use. They are excellent tools for finding patterns that are far too complex or numerous for a human programmer to extract and teach the machine to recognize.\n",
    "\n",
    " - While neural networks (also called “perceptrons”) have been around since the 1940s, it is only in the last several decades where they have become a major part of artificial intelligence. This is due to the arrival of a technique called “backpropagation,” which allows networks to adjust their hidden layers of neurons in situations where the outcome doesn’t match what the creator is hoping for — like a network designed to recognize dogs, which misidentifies a cat, for example.\n",
    "\n",
    " - Another important advance has been the arrival of deep learning neural networks, in which different layers of a multilayer network extract different features until it can recognize what it is looking for.\n",
    "\n",
    " - An artificial neuron network (neural network) is a computational model that mimics the way nerve cells work in the human brain.\n",
    " \n",
    " - Artificial neural networks (ANNs) use learning algorithms that can independently make adjustments - or learn, in a sense - as they receive new input. This makes them a very effective tool for non-linear statistical data modeling.\n",
    "\n"
   ]
  },
  {
   "cell_type": "markdown",
   "id": "1dc83b3d",
   "metadata": {},
   "source": [
    "# Gradient descent optimizer"
   ]
  },
  {
   "cell_type": "code",
   "execution_count": 3,
   "id": "0b0d0dd1",
   "metadata": {
    "ExecuteTime": {
     "end_time": "2023-02-06T06:43:27.747483Z",
     "start_time": "2023-02-06T06:43:27.738487Z"
    }
   },
   "outputs": [],
   "source": [
    "from sklearn.metrics import mean_squared_error\n",
    "import numpy as np"
   ]
  },
  {
   "cell_type": "code",
   "execution_count": 4,
   "id": "80c20a7d",
   "metadata": {
    "ExecuteTime": {
     "end_time": "2023-02-06T06:43:51.519860Z",
     "start_time": "2023-02-06T06:43:51.497867Z"
    }
   },
   "outputs": [],
   "source": [
    "def gradient_descent(x,y):\n",
    "    weight = 0.1\n",
    "    bias = 0.1\n",
    "    learning_rate = 0.05\n",
    "    n = len(x)\n",
    "    epochs = 100\n",
    "    \n",
    "    #Forward propagation\n",
    "    for i in range(epochs):\n",
    "        ypred = x*weight+bias\n",
    "        mse = mean_squared_error(y,ypred)\n",
    "    \n",
    "    #Backward propagtion\n",
    "        dw = -(2/n)*sum(x*(y-ypred))\n",
    "        db = -(2/n)*sum(y-ypred)\n",
    "    \n",
    "    #update the weights and bias\n",
    "        weight = weight -(learning_rate*dw)\n",
    "        bias = bias - (learning_rate*db)\n",
    "    \n",
    "    \n",
    "        print(f\"Iteration:{i}, Weight is:{weight}, Bias is:{bias}, MSE is: {mse}\")"
   ]
  },
  {
   "cell_type": "code",
   "execution_count": 5,
   "id": "a7fd01a0",
   "metadata": {
    "ExecuteTime": {
     "end_time": "2023-02-06T06:44:05.186554Z",
     "start_time": "2023-02-06T06:44:05.167572Z"
    }
   },
   "outputs": [],
   "source": [
    "x = np.array([1,2,3,4])\n",
    "y = np.array([10,12,20,25])"
   ]
  },
  {
   "cell_type": "code",
   "execution_count": 6,
   "id": "1fcc93de",
   "metadata": {
    "ExecuteTime": {
     "end_time": "2023-02-06T06:44:18.464620Z",
     "start_time": "2023-02-06T06:44:18.371235Z"
    }
   },
   "outputs": [
    {
     "name": "stdout",
     "output_type": "stream",
     "text": [
      "Iteration:0, Weight is:4.85, Bias is:1.74, MSE is: 304.33500000000004\n",
      "Iteration:1, Weight is:5.6275, Bias is:2.0285, MSE is: 10.151350000000008\n",
      "Iteration:2, Weight is:5.74975, Bias is:2.093775, MSE is: 2.135152874999998\n",
      "Iteration:3, Weight is:5.76399375, Bias is:2.12196, MSE is: 1.9072832506249988\n",
      "Iteration:4, Weight is:5.7605084374999995, Bias is:2.1437655625, MSE is: 1.8916610056429681\n",
      "Iteration:5, Weight is:5.75418571875, Bias is:2.1642618968750003, MSE is: 1.8820949985420456\n",
      "Iteration:6, Weight is:5.74748095546875, Bias is:2.1842892775000005, MSE is: 1.8729654313654303\n",
      "Iteration:7, Weight is:5.740797919492187, Bias is:2.203990110882813, MSE is: 1.8641112904817663\n",
      "Iteration:8, Weight is:5.734201952152343, Bias is:2.2233916199214847, MSE is: 1.855520362583569\n",
      "Iteration:9, Weight is:5.727702583057715, Bias is:2.2425019698912503, MSE is: 1.8471847166628241\n",
      "Iteration:10, Weight is:5.721300153291616, Bias is:2.2613261271376963, MSE is: 1.8390967640466949\n",
      "Iteration:11, Weight is:5.71499350653848, Bias is:2.2798684761010226, MSE is: 1.8312491444622006\n",
      "Iteration:12, Weight is:5.708781257609364, Bias is:2.2981332518563002, MSE is: 1.8236347164254376\n",
      "Iteration:13, Weight is:5.702662001438266, Bias is:2.316124612268329, MSE is: 1.8162465506634193\n",
      "Iteration:14, Weight is:5.696634347292484, Bias is:2.33384665068193, MSE is: 1.8090779238061507\n",
      "Iteration:15, Weight is:5.690696924152638, Bias is:2.351303398790616, MSE is: 1.8021223122681795\n",
      "Iteration:16, Weight is:5.6848483813405055, Bias is:2.3684988278733945, MSE is: 1.7953733863120034\n",
      "Iteration:17, Weight is:5.679087388366778, Bias is:2.3854368497509286, MSE is: 1.7888250042878904\n",
      "Iteration:18, Weight is:5.673412634653962, Bias is:2.4021213176841414, MSE is: 1.7824712070448707\n",
      "Iteration:19, Weight is:5.667822829242455, Bias is:2.4185560272522366, MSE is: 1.7763062125077818\n",
      "Iteration:20, Weight is:5.662316700497555, Bias is:2.434744717216399, MSE is: 1.7703244104154825\n",
      "Iteration:21, Weight is:5.6568929958202885, Bias is:2.4506910703703704, MSE is: 1.7645203572154098\n",
      "Iteration:22, Weight is:5.651550481362479, Bias is:2.4663987143782613, MSE is: 1.7588887711098378\n",
      "Iteration:23, Weight is:5.6462879417460545, Bias is:2.4818712225998154, MSE is: 1.7534245272493438\n",
      "Iteration:24, Weight is:5.64110417978656, Bias is:2.49711211490332, MSE is: 1.7481226530691016\n",
      "Iteration:25, Weight is:5.63599801622081, Bias is:2.5121248584663483, MSE is: 1.7429783237637517\n",
      "Iteration:26, Weight is:5.6309682894386155, Bias is:2.526912868564511, MSE is: 1.7379868578967361\n",
      "Iteration:27, Weight is:5.626013855218526, Bias is:2.541479509348406, MSE is: 1.7331437131401064\n",
      "Iteration:28, Weight is:5.62113358646753, Bias is:2.555828094608934, MSE is: 1.7284444821409208\n",
      "Iteration:29, Weight is:5.616326372964649, Bias is:2.569961888531158, MSE is: 1.7238848885104634\n",
      "Iteration:30, Weight is:5.611591121108373, Bias is:2.58388410643688, MSE is: 1.719460782932655\n",
      "Iteration:31, Weight is:5.6069267536678735, Bias is:2.597597915516099, MSE is: 1.7151681393880926\n",
      "Iteration:32, Weight is:5.602332209537944, Bias is:2.6111064355475206, MSE is: 1.711003051490308\n",
      "Iteration:33, Weight is:5.597806443497606, Bias is:2.6244127396082826, MSE is: 1.7069617289308654\n",
      "Iteration:34, Weight is:5.593348425972331, Bias is:2.637519854773053, MSE is: 1.7030404940301225\n",
      "Iteration:35, Weight is:5.58895714279982, Bias is:2.6504307628026647, MSE is: 1.6992357783904657\n",
      "Iteration:36, Weight is:5.584631594999289, Bias is:2.6631484008224433, MSE is: 1.695544119649007\n",
      "Iteration:37, Weight is:5.5803707985442115, Bias is:2.6756756619903768, MSE is: 1.6919621583267597\n",
      "Iteration:38, Weight is:5.576173784138459, Bias is:2.6880153961552864, MSE is: 1.688486634771463\n",
      "Iteration:39, Weight is:5.572039596995793, Bias is:2.700170410505143, MSE is: 1.6851143861912177\n",
      "Iteration:40, Weight is:5.567967296622663, Bias is:2.7121434702056804, MSE is: 1.6818423437763048\n",
      "Iteration:41, Weight is:5.563955956604246, Bias is:2.7239372990294464, MSE is: 1.6786675299065013\n",
      "Iteration:42, Weight is:5.560004664393699, Bias is:2.73555457997544, MSE is: 1.6755870554413923\n",
      "Iteration:43, Weight is:5.5561125211045646, Bias is:2.7469979558794715, MSE is: 1.6725981170911974\n",
      "Iteration:44, Weight is:5.552278641306273, Bias is:2.758270030015383, MSE is: 1.6696979948657193\n",
      "Iteration:45, Weight is:5.5485021528227225, Bias is:2.7693733666872764, MSE is: 1.6668840495991155\n",
      "Iteration:46, Weight is:5.544782196533862, Bias is:2.7803104918128683, MSE is: 1.6641537205481944\n",
      "Iteration:47, Weight is:5.541117926180248, Bias is:2.791083893498116, MSE is: 1.6615045230620964\n",
      "Iteration:48, Weight is:5.537508508170533, Bias is:2.8016960226032426, MSE is: 1.658934046321218\n",
      "Iteration:49, Weight is:5.533953121391822, Bias is:2.812149293300285, MSE is: 1.6564399511433057\n",
      "Iteration:50, Weight is:5.530450957022884, Bias is:2.822446083622301, MSE is: 1.6540199678547753\n",
      "Iteration:51, Weight is:5.527001218350146, Bias is:2.83258873600435, MSE is: 1.651671894225263\n",
      "Iteration:52, Weight is:5.523603120586449, Bias is:2.842579557816378, MSE is: 1.6493935934635346\n",
      "Iteration:53, Weight is:5.520255890692518, Bias is:2.852420821888128, MSE is: 1.6471829922729895\n",
      "Iteration:54, Weight is:5.516958767201097, Bias is:2.862114767026186, MSE is: 1.6450380789649102\n",
      "Iteration:55, Weight is:5.5137110000437275, Bias is:2.8716635985232934, MSE is: 1.6429569016277903\n",
      "Iteration:56, Weight is:5.510511850380109, Bias is:2.881069488660032, MSE is: 1.640937566351052\n",
      "Iteration:57, Weight is:5.507360590430019, Bias is:2.8903345771990017, MSE is: 1.6389782355015663\n",
      "Iteration:58, Weight is:5.504256503307754, Bias is:2.899460971871597, MSE is: 1.6370771260513532\n",
      "Iteration:59, Weight is:5.501198882859039, Bias is:2.9084507488574984, MSE is: 1.635232507955013\n",
      "Iteration:60, Weight is:5.498187033500385, Bias is:2.917305953256989, MSE is: 1.6334427025753333\n",
      "Iteration:61, Weight is:5.495220270060849, Bias is:2.926028599556194, MSE is: 1.6317060811557063\n",
      "Iteration:62, Weight is:5.492297917626164, Bias is:2.9346206720853623, MSE is: 1.6300210633379364\n",
      "Iteration:63, Weight is:5.4894193113852, Bias is:2.943084125470285, MSE is: 1.6283861157240747\n",
      "Iteration:64, Weight is:5.486583796478729, Bias is:2.9514208850769563, MSE is: 1.6267997504809966\n",
      "Iteration:65, Weight is:5.483790727850443, Bias is:2.9596328474495786, MSE is: 1.6252605239864555\n",
      "Iteration:66, Weight is:5.481039470100216, Bias is:2.96772188074201, MSE is: 1.6237670355153497\n",
      "Iteration:67, Weight is:5.478329397339551, Bias is:2.975689825142755, MSE is: 1.622317925965044\n",
      "Iteration:68, Weight is:5.475659893049199, Bias is:2.983538493293592, MSE is: 1.6209118766185557\n",
      "Iteration:69, Weight is:5.4730303499389015, Bias is:2.991269670701933, MSE is: 1.6195476079444933\n",
      "Iteration:70, Weight is:5.470440169809242, Bias is:2.9988851161470143, MSE is: 1.618223878432676\n",
      "Iteration:71, Weight is:5.467888763415557, Bias is:3.006386562080002, MSE is: 1.6169394834643103\n",
      "Iteration:72, Weight is:5.4653755503338886, Bias is:3.0137757150181126, MSE is: 1.6156932542157867\n",
      "Iteration:73, Weight is:5.4628999588289435, Bias is:3.021054255932829, MSE is: 1.614484056595016\n",
      "Iteration:74, Weight is:5.460461425724029, Bias is:3.02822384063231, MSE is: 1.613310790209391\n",
      "Iteration:75, Weight is:5.45805939627293, Bias is:3.0352861001380718, MSE is: 1.612172387364408\n",
      "Iteration:76, Weight is:5.455693324033715, Bias is:3.042242641056032, MSE is: 1.611067812092029\n",
      "Iteration:77, Weight is:5.45336267074442, Bias is:3.0490950459420003, MSE is: 1.609996059207959\n",
      "Iteration:78, Weight is:5.451066906200605, Bias is:3.0558448736616954, MSE is: 1.6089561533968826\n",
      "Iteration:79, Weight is:5.448805508134727, Bias is:3.0624936597453747, MSE is: 1.6079471483249306\n",
      "Iteration:80, Weight is:5.446577962097338, Bias is:3.069042916737155, MSE is: 1.6069681257784814\n",
      "Iteration:81, Weight is:5.444383761340046, Bias is:3.075494134539105, MSE is: 1.6060181948285805\n",
      "Iteration:82, Weight is:5.442222406700235, Bias is:3.081848780750183, MSE is: 1.6050964910201697\n",
      "Iteration:83, Weight is:5.440093406487513, Bias is:3.088108301000106, MSE is: 1.6042021755854288\n",
      "Iteration:84, Weight is:5.437996276371852, Bias is:3.094274119278217, MSE is: 1.6033344346804637\n",
      "Iteration:85, Weight is:5.435930539273408, Bias is:3.1003476382574324, MSE is: 1.6024924786447095\n",
      "Iteration:86, Weight is:5.433895725253994, Bias is:3.106330239613337, MSE is: 1.6016755412823158\n",
      "Iteration:87, Weight is:5.431891371410164, Bias is:3.1122232843385045, MSE is: 1.6008828791648986\n",
      "Iteration:88, Weight is:5.429917021767915, Bias is:3.118028113052113, MSE is: 1.6001137709550008\n",
      "Iteration:89, Weight is:5.427972227178951, Bias is:3.1237460463049227, MSE is: 1.5993675167496648\n",
      "Iteration:90, Weight is:5.426056545218507, Bias is:3.1293783848796926, MSE is: 1.5986434374435115\n",
      "Iteration:91, Weight is:5.424169540084703, Bias is:3.134926410087097, MSE is: 1.59794087411073\n",
      "Iteration:92, Weight is:5.422310782499402, Bias is:3.1403913840572115, MSE is: 1.5972591874054618\n",
      "Iteration:93, Weight is:5.4204798496105475, Bias is:3.14577455002664, MSE is: 1.5965977569799616\n",
      "Iteration:94, Weight is:5.418676324895976, Bias is:3.151077132621339, MSE is: 1.5959559809200854\n",
      "Iteration:95, Weight is:5.416899798068659, Bias is:3.1563003381352113, MSE is: 1.5953332751975335\n",
      "Iteration:96, Weight is:5.415149864983362, Bias is:3.1614453548045254, MSE is: 1.5947290731383685\n",
      "Iteration:97, Weight is:5.413426127544709, Bias is:3.1665133530782326, MSE is: 1.5941428249073395\n",
      "Iteration:98, Weight is:5.411728193616619, Bias is:3.171505485884232, MSE is: 1.5935739970075085\n",
      "Iteration:99, Weight is:5.410055676933097, Bias is:3.176422888891654, MSE is: 1.5930220717947816\n"
     ]
    }
   ],
   "source": [
    "gradient_descent(x,y)"
   ]
  },
  {
   "cell_type": "markdown",
   "id": "fd678d33",
   "metadata": {},
   "source": [
    "# Artificial Neural Network"
   ]
  },
  {
   "cell_type": "markdown",
   "id": "8afe7a1c",
   "metadata": {},
   "source": [
    "# Classification"
   ]
  },
  {
   "cell_type": "code",
   "execution_count": 1,
   "id": "8cfad236",
   "metadata": {
    "ExecuteTime": {
     "end_time": "2023-02-06T05:30:48.136251Z",
     "start_time": "2023-02-06T05:28:35.571658Z"
    }
   },
   "outputs": [
    {
     "name": "stdout",
     "output_type": "stream",
     "text": [
      "Collecting tensorflow\n",
      "  Downloading tensorflow-2.11.0-cp39-cp39-win_amd64.whl (1.9 kB)\n",
      "Collecting tensorflow-intel==2.11.0\n",
      "  Downloading tensorflow_intel-2.11.0-cp39-cp39-win_amd64.whl (266.3 MB)\n",
      "     -------------------------------------- 266.3/266.3 MB 3.1 MB/s eta 0:00:00\n",
      "Collecting libclang>=13.0.0\n",
      "  Downloading libclang-15.0.6.1-py2.py3-none-win_amd64.whl (23.2 MB)\n",
      "     ---------------------------------------- 23.2/23.2 MB 5.3 MB/s eta 0:00:00\n",
      "Requirement already satisfied: typing-extensions>=3.6.6 in c:\\users\\saishree\\anaconda3\\lib\\site-packages (from tensorflow-intel==2.11.0->tensorflow) (4.3.0)\n",
      "Collecting astunparse>=1.6.0\n",
      "  Downloading astunparse-1.6.3-py2.py3-none-any.whl (12 kB)\n",
      "Requirement already satisfied: h5py>=2.9.0 in c:\\users\\saishree\\anaconda3\\lib\\site-packages (from tensorflow-intel==2.11.0->tensorflow) (3.7.0)\n",
      "Collecting opt-einsum>=2.3.2\n",
      "  Downloading opt_einsum-3.3.0-py3-none-any.whl (65 kB)\n",
      "     ---------------------------------------- 65.5/65.5 kB 3.5 MB/s eta 0:00:00\n",
      "Collecting gast<=0.4.0,>=0.2.1\n",
      "  Downloading gast-0.4.0-py3-none-any.whl (9.8 kB)\n",
      "Requirement already satisfied: numpy>=1.20 in c:\\users\\saishree\\anaconda3\\lib\\site-packages (from tensorflow-intel==2.11.0->tensorflow) (1.21.5)\n",
      "Collecting protobuf<3.20,>=3.9.2\n",
      "  Downloading protobuf-3.19.6-cp39-cp39-win_amd64.whl (895 kB)\n",
      "     -------------------------------------- 895.9/895.9 kB 9.4 MB/s eta 0:00:00\n",
      "Collecting absl-py>=1.0.0\n",
      "  Downloading absl_py-1.4.0-py3-none-any.whl (126 kB)\n",
      "     -------------------------------------- 126.5/126.5 kB 7.3 MB/s eta 0:00:00\n",
      "Collecting grpcio<2.0,>=1.24.3\n",
      "  Downloading grpcio-1.51.1-cp39-cp39-win_amd64.whl (3.7 MB)\n",
      "     ---------------------------------------- 3.7/3.7 MB 8.5 MB/s eta 0:00:00\n",
      "Collecting flatbuffers>=2.0\n",
      "  Downloading flatbuffers-23.1.21-py2.py3-none-any.whl (26 kB)\n",
      "Collecting tensorflow-io-gcs-filesystem>=0.23.1\n",
      "  Downloading tensorflow_io_gcs_filesystem-0.30.0-cp39-cp39-win_amd64.whl (1.5 MB)\n",
      "     ---------------------------------------- 1.5/1.5 MB 5.9 MB/s eta 0:00:00\n",
      "Collecting tensorflow-estimator<2.12,>=2.11.0\n",
      "  Downloading tensorflow_estimator-2.11.0-py2.py3-none-any.whl (439 kB)\n",
      "     -------------------------------------- 439.2/439.2 kB 5.5 MB/s eta 0:00:00\n",
      "Collecting keras<2.12,>=2.11.0\n",
      "  Downloading keras-2.11.0-py2.py3-none-any.whl (1.7 MB)\n",
      "     ---------------------------------------- 1.7/1.7 MB 11.9 MB/s eta 0:00:00\n",
      "Requirement already satisfied: six>=1.12.0 in c:\\users\\saishree\\anaconda3\\lib\\site-packages (from tensorflow-intel==2.11.0->tensorflow) (1.16.0)\n",
      "Requirement already satisfied: setuptools in c:\\users\\saishree\\anaconda3\\lib\\site-packages (from tensorflow-intel==2.11.0->tensorflow) (63.4.1)\n",
      "Collecting termcolor>=1.1.0\n",
      "  Downloading termcolor-2.2.0-py3-none-any.whl (6.6 kB)\n",
      "Requirement already satisfied: wrapt>=1.11.0 in c:\\users\\saishree\\anaconda3\\lib\\site-packages (from tensorflow-intel==2.11.0->tensorflow) (1.14.1)\n",
      "Requirement already satisfied: packaging in c:\\users\\saishree\\anaconda3\\lib\\site-packages (from tensorflow-intel==2.11.0->tensorflow) (21.3)\n",
      "Collecting tensorboard<2.12,>=2.11\n",
      "  Downloading tensorboard-2.11.2-py3-none-any.whl (6.0 MB)\n",
      "     ---------------------------------------- 6.0/6.0 MB 7.2 MB/s eta 0:00:00\n",
      "Collecting google-pasta>=0.1.1\n",
      "  Downloading google_pasta-0.2.0-py3-none-any.whl (57 kB)\n",
      "     ---------------------------------------- 57.5/57.5 kB ? eta 0:00:00\n",
      "Requirement already satisfied: wheel<1.0,>=0.23.0 in c:\\users\\saishree\\anaconda3\\lib\\site-packages (from astunparse>=1.6.0->tensorflow-intel==2.11.0->tensorflow) (0.37.1)\n",
      "Requirement already satisfied: requests<3,>=2.21.0 in c:\\users\\saishree\\anaconda3\\lib\\site-packages (from tensorboard<2.12,>=2.11->tensorflow-intel==2.11.0->tensorflow) (2.28.1)\n",
      "Collecting google-auth-oauthlib<0.5,>=0.4.1\n",
      "  Downloading google_auth_oauthlib-0.4.6-py2.py3-none-any.whl (18 kB)\n",
      "Collecting google-auth<3,>=1.6.3\n",
      "  Downloading google_auth-2.16.0-py2.py3-none-any.whl (177 kB)\n",
      "     ------------------------------------- 177.8/177.8 kB 11.2 MB/s eta 0:00:00\n",
      "Requirement already satisfied: werkzeug>=1.0.1 in c:\\users\\saishree\\anaconda3\\lib\\site-packages (from tensorboard<2.12,>=2.11->tensorflow-intel==2.11.0->tensorflow) (2.0.3)\n",
      "Collecting tensorboard-data-server<0.7.0,>=0.6.0\n",
      "  Downloading tensorboard_data_server-0.6.1-py3-none-any.whl (2.4 kB)\n",
      "Requirement already satisfied: markdown>=2.6.8 in c:\\users\\saishree\\anaconda3\\lib\\site-packages (from tensorboard<2.12,>=2.11->tensorflow-intel==2.11.0->tensorflow) (3.3.4)\n",
      "Collecting tensorboard-plugin-wit>=1.6.0\n",
      "  Downloading tensorboard_plugin_wit-1.8.1-py3-none-any.whl (781 kB)\n",
      "     -------------------------------------- 781.3/781.3 kB 9.9 MB/s eta 0:00:00\n",
      "Requirement already satisfied: pyparsing!=3.0.5,>=2.0.2 in c:\\users\\saishree\\anaconda3\\lib\\site-packages (from packaging->tensorflow-intel==2.11.0->tensorflow) (3.0.9)\n",
      "Collecting cachetools<6.0,>=2.0.0\n",
      "  Downloading cachetools-5.3.0-py3-none-any.whl (9.3 kB)\n",
      "Collecting rsa<5,>=3.1.4\n",
      "  Downloading rsa-4.9-py3-none-any.whl (34 kB)\n",
      "Requirement already satisfied: pyasn1-modules>=0.2.1 in c:\\users\\saishree\\anaconda3\\lib\\site-packages (from google-auth<3,>=1.6.3->tensorboard<2.12,>=2.11->tensorflow-intel==2.11.0->tensorflow) (0.2.8)\n",
      "Collecting requests-oauthlib>=0.7.0\n",
      "  Downloading requests_oauthlib-1.3.1-py2.py3-none-any.whl (23 kB)\n",
      "Requirement already satisfied: charset-normalizer<3,>=2 in c:\\users\\saishree\\anaconda3\\lib\\site-packages (from requests<3,>=2.21.0->tensorboard<2.12,>=2.11->tensorflow-intel==2.11.0->tensorflow) (2.0.4)\n",
      "Requirement already satisfied: urllib3<1.27,>=1.21.1 in c:\\users\\saishree\\anaconda3\\lib\\site-packages (from requests<3,>=2.21.0->tensorboard<2.12,>=2.11->tensorflow-intel==2.11.0->tensorflow) (1.26.11)\n",
      "Requirement already satisfied: certifi>=2017.4.17 in c:\\users\\saishree\\anaconda3\\lib\\site-packages (from requests<3,>=2.21.0->tensorboard<2.12,>=2.11->tensorflow-intel==2.11.0->tensorflow) (2022.9.14)\n",
      "Requirement already satisfied: idna<4,>=2.5 in c:\\users\\saishree\\anaconda3\\lib\\site-packages (from requests<3,>=2.21.0->tensorboard<2.12,>=2.11->tensorflow-intel==2.11.0->tensorflow) (3.3)\n",
      "Requirement already satisfied: pyasn1<0.5.0,>=0.4.6 in c:\\users\\saishree\\anaconda3\\lib\\site-packages (from pyasn1-modules>=0.2.1->google-auth<3,>=1.6.3->tensorboard<2.12,>=2.11->tensorflow-intel==2.11.0->tensorflow) (0.4.8)\n",
      "Collecting oauthlib>=3.0.0\n",
      "  Downloading oauthlib-3.2.2-py3-none-any.whl (151 kB)\n",
      "     -------------------------------------- 151.7/151.7 kB 9.4 MB/s eta 0:00:00\n",
      "Installing collected packages: tensorboard-plugin-wit, libclang, flatbuffers, termcolor, tensorflow-io-gcs-filesystem, tensorflow-estimator, tensorboard-data-server, rsa, protobuf, opt-einsum, oauthlib, keras, grpcio, google-pasta, gast, cachetools, astunparse, absl-py, requests-oauthlib, google-auth, google-auth-oauthlib, tensorboard, tensorflow-intel, tensorflow\n",
      "Successfully installed absl-py-1.4.0 astunparse-1.6.3 cachetools-5.3.0 flatbuffers-23.1.21 gast-0.4.0 google-auth-2.16.0 google-auth-oauthlib-0.4.6 google-pasta-0.2.0 grpcio-1.51.1 keras-2.11.0 libclang-15.0.6.1 oauthlib-3.2.2 opt-einsum-3.3.0 protobuf-3.19.6 requests-oauthlib-1.3.1 rsa-4.9 tensorboard-2.11.2 tensorboard-data-server-0.6.1 tensorboard-plugin-wit-1.8.1 tensorflow-2.11.0 tensorflow-estimator-2.11.0 tensorflow-intel-2.11.0 tensorflow-io-gcs-filesystem-0.30.0 termcolor-2.2.0\n"
     ]
    }
   ],
   "source": [
    "!pip install tensorflow"
   ]
  },
  {
   "cell_type": "code",
   "execution_count": 7,
   "id": "6ba2aaee",
   "metadata": {
    "ExecuteTime": {
     "end_time": "2023-02-06T06:45:31.909494Z",
     "start_time": "2023-02-06T06:45:23.440185Z"
    }
   },
   "outputs": [],
   "source": [
    "import pandas as pd\n",
    "from sklearn.preprocessing import StandardScaler\n",
    "from sklearn.metrics import classification_report\n",
    "import tensorflow as tf\n",
    "from tensorflow.keras import Sequential\n",
    "from tensorflow.keras.layers import Dense\n",
    "from sklearn.model_selection import train_test_split"
   ]
  },
  {
   "cell_type": "code",
   "execution_count": 8,
   "id": "3a62575a",
   "metadata": {
    "ExecuteTime": {
     "end_time": "2023-02-06T06:45:34.493257Z",
     "start_time": "2023-02-06T06:45:34.354711Z"
    }
   },
   "outputs": [
    {
     "data": {
      "text/html": [
       "<div>\n",
       "<style scoped>\n",
       "    .dataframe tbody tr th:only-of-type {\n",
       "        vertical-align: middle;\n",
       "    }\n",
       "\n",
       "    .dataframe tbody tr th {\n",
       "        vertical-align: top;\n",
       "    }\n",
       "\n",
       "    .dataframe thead th {\n",
       "        text-align: right;\n",
       "    }\n",
       "</style>\n",
       "<table border=\"1\" class=\"dataframe\">\n",
       "  <thead>\n",
       "    <tr style=\"text-align: right;\">\n",
       "      <th></th>\n",
       "      <th>CreditScore</th>\n",
       "      <th>Age</th>\n",
       "      <th>Tenure</th>\n",
       "      <th>Balance</th>\n",
       "      <th>NumOfProducts</th>\n",
       "      <th>HasCrCard</th>\n",
       "      <th>IsActiveMember</th>\n",
       "      <th>EstimatedSalary</th>\n",
       "      <th>Exited</th>\n",
       "    </tr>\n",
       "  </thead>\n",
       "  <tbody>\n",
       "    <tr>\n",
       "      <th>0</th>\n",
       "      <td>619</td>\n",
       "      <td>42</td>\n",
       "      <td>2</td>\n",
       "      <td>0.00</td>\n",
       "      <td>1</td>\n",
       "      <td>1</td>\n",
       "      <td>1</td>\n",
       "      <td>101348.88</td>\n",
       "      <td>1</td>\n",
       "    </tr>\n",
       "    <tr>\n",
       "      <th>1</th>\n",
       "      <td>608</td>\n",
       "      <td>41</td>\n",
       "      <td>1</td>\n",
       "      <td>83807.86</td>\n",
       "      <td>1</td>\n",
       "      <td>0</td>\n",
       "      <td>1</td>\n",
       "      <td>112542.58</td>\n",
       "      <td>0</td>\n",
       "    </tr>\n",
       "    <tr>\n",
       "      <th>2</th>\n",
       "      <td>502</td>\n",
       "      <td>42</td>\n",
       "      <td>8</td>\n",
       "      <td>159660.80</td>\n",
       "      <td>3</td>\n",
       "      <td>1</td>\n",
       "      <td>0</td>\n",
       "      <td>113931.57</td>\n",
       "      <td>1</td>\n",
       "    </tr>\n",
       "    <tr>\n",
       "      <th>3</th>\n",
       "      <td>699</td>\n",
       "      <td>39</td>\n",
       "      <td>1</td>\n",
       "      <td>0.00</td>\n",
       "      <td>2</td>\n",
       "      <td>0</td>\n",
       "      <td>0</td>\n",
       "      <td>93826.63</td>\n",
       "      <td>0</td>\n",
       "    </tr>\n",
       "    <tr>\n",
       "      <th>4</th>\n",
       "      <td>850</td>\n",
       "      <td>43</td>\n",
       "      <td>2</td>\n",
       "      <td>125510.82</td>\n",
       "      <td>1</td>\n",
       "      <td>1</td>\n",
       "      <td>1</td>\n",
       "      <td>79084.10</td>\n",
       "      <td>0</td>\n",
       "    </tr>\n",
       "    <tr>\n",
       "      <th>...</th>\n",
       "      <td>...</td>\n",
       "      <td>...</td>\n",
       "      <td>...</td>\n",
       "      <td>...</td>\n",
       "      <td>...</td>\n",
       "      <td>...</td>\n",
       "      <td>...</td>\n",
       "      <td>...</td>\n",
       "      <td>...</td>\n",
       "    </tr>\n",
       "    <tr>\n",
       "      <th>9995</th>\n",
       "      <td>771</td>\n",
       "      <td>39</td>\n",
       "      <td>5</td>\n",
       "      <td>0.00</td>\n",
       "      <td>2</td>\n",
       "      <td>1</td>\n",
       "      <td>0</td>\n",
       "      <td>96270.64</td>\n",
       "      <td>0</td>\n",
       "    </tr>\n",
       "    <tr>\n",
       "      <th>9996</th>\n",
       "      <td>516</td>\n",
       "      <td>35</td>\n",
       "      <td>10</td>\n",
       "      <td>57369.61</td>\n",
       "      <td>1</td>\n",
       "      <td>1</td>\n",
       "      <td>1</td>\n",
       "      <td>101699.77</td>\n",
       "      <td>0</td>\n",
       "    </tr>\n",
       "    <tr>\n",
       "      <th>9997</th>\n",
       "      <td>709</td>\n",
       "      <td>36</td>\n",
       "      <td>7</td>\n",
       "      <td>0.00</td>\n",
       "      <td>1</td>\n",
       "      <td>0</td>\n",
       "      <td>1</td>\n",
       "      <td>42085.58</td>\n",
       "      <td>1</td>\n",
       "    </tr>\n",
       "    <tr>\n",
       "      <th>9998</th>\n",
       "      <td>772</td>\n",
       "      <td>42</td>\n",
       "      <td>3</td>\n",
       "      <td>75075.31</td>\n",
       "      <td>2</td>\n",
       "      <td>1</td>\n",
       "      <td>0</td>\n",
       "      <td>92888.52</td>\n",
       "      <td>1</td>\n",
       "    </tr>\n",
       "    <tr>\n",
       "      <th>9999</th>\n",
       "      <td>792</td>\n",
       "      <td>28</td>\n",
       "      <td>4</td>\n",
       "      <td>130142.79</td>\n",
       "      <td>1</td>\n",
       "      <td>1</td>\n",
       "      <td>0</td>\n",
       "      <td>38190.78</td>\n",
       "      <td>0</td>\n",
       "    </tr>\n",
       "  </tbody>\n",
       "</table>\n",
       "<p>10000 rows × 9 columns</p>\n",
       "</div>"
      ],
      "text/plain": [
       "      CreditScore  Age  Tenure    Balance  NumOfProducts  HasCrCard  \\\n",
       "0             619   42       2       0.00              1          1   \n",
       "1             608   41       1   83807.86              1          0   \n",
       "2             502   42       8  159660.80              3          1   \n",
       "3             699   39       1       0.00              2          0   \n",
       "4             850   43       2  125510.82              1          1   \n",
       "...           ...  ...     ...        ...            ...        ...   \n",
       "9995          771   39       5       0.00              2          1   \n",
       "9996          516   35      10   57369.61              1          1   \n",
       "9997          709   36       7       0.00              1          0   \n",
       "9998          772   42       3   75075.31              2          1   \n",
       "9999          792   28       4  130142.79              1          1   \n",
       "\n",
       "      IsActiveMember  EstimatedSalary  Exited  \n",
       "0                  1        101348.88       1  \n",
       "1                  1        112542.58       0  \n",
       "2                  0        113931.57       1  \n",
       "3                  0         93826.63       0  \n",
       "4                  1         79084.10       0  \n",
       "...              ...              ...     ...  \n",
       "9995               0         96270.64       0  \n",
       "9996               1        101699.77       0  \n",
       "9997               1         42085.58       1  \n",
       "9998               0         92888.52       1  \n",
       "9999               0         38190.78       0  \n",
       "\n",
       "[10000 rows x 9 columns]"
      ]
     },
     "execution_count": 8,
     "metadata": {},
     "output_type": "execute_result"
    }
   ],
   "source": [
    "df = pd.read_csv('Classification.csv')\n",
    "df"
   ]
  },
  {
   "cell_type": "code",
   "execution_count": 9,
   "id": "f5366b41",
   "metadata": {
    "ExecuteTime": {
     "end_time": "2023-02-06T06:45:44.348875Z",
     "start_time": "2023-02-06T06:45:44.330867Z"
    }
   },
   "outputs": [
    {
     "data": {
      "text/plain": [
       "CreditScore        0\n",
       "Age                0\n",
       "Tenure             0\n",
       "Balance            0\n",
       "NumOfProducts      0\n",
       "HasCrCard          0\n",
       "IsActiveMember     0\n",
       "EstimatedSalary    0\n",
       "Exited             0\n",
       "dtype: int64"
      ]
     },
     "execution_count": 9,
     "metadata": {},
     "output_type": "execute_result"
    }
   ],
   "source": [
    "df.isnull().sum()"
   ]
  },
  {
   "cell_type": "code",
   "execution_count": 10,
   "id": "0ba8e37e",
   "metadata": {
    "ExecuteTime": {
     "end_time": "2023-02-06T06:45:53.965717Z",
     "start_time": "2023-02-06T06:45:53.944730Z"
    }
   },
   "outputs": [],
   "source": [
    "x = df.iloc[:,:-1]\n",
    "y = df.iloc[:,-1]"
   ]
  },
  {
   "cell_type": "code",
   "execution_count": 11,
   "id": "156fd91f",
   "metadata": {
    "ExecuteTime": {
     "end_time": "2023-02-06T06:46:03.247585Z",
     "start_time": "2023-02-06T06:46:03.217580Z"
    }
   },
   "outputs": [],
   "source": [
    "sc = StandardScaler()\n",
    "x = sc.fit_transform(x)"
   ]
  },
  {
   "cell_type": "code",
   "execution_count": 12,
   "id": "c01a43ca",
   "metadata": {
    "ExecuteTime": {
     "end_time": "2023-02-06T06:46:13.204508Z",
     "start_time": "2023-02-06T06:46:13.193518Z"
    }
   },
   "outputs": [],
   "source": [
    "xtrain,xtest,ytrain,ytest = train_test_split(x,y,test_size=0.2, random_state=1)"
   ]
  },
  {
   "cell_type": "code",
   "execution_count": 13,
   "id": "8c49fe95",
   "metadata": {
    "ExecuteTime": {
     "end_time": "2023-02-06T06:46:59.123395Z",
     "start_time": "2023-02-06T06:46:23.722247Z"
    }
   },
   "outputs": [
    {
     "name": "stdout",
     "output_type": "stream",
     "text": [
      "Epoch 1/50\n",
      "250/250 [==============================] - 2s 3ms/step - loss: 0.6291\n",
      "Epoch 2/50\n",
      "250/250 [==============================] - 1s 3ms/step - loss: 0.4884\n",
      "Epoch 3/50\n",
      "250/250 [==============================] - 1s 2ms/step - loss: 0.4531\n",
      "Epoch 4/50\n",
      "250/250 [==============================] - 1s 3ms/step - loss: 0.4344\n",
      "Epoch 5/50\n",
      "250/250 [==============================] - 1s 3ms/step - loss: 0.4202\n",
      "Epoch 6/50\n",
      "250/250 [==============================] - 1s 3ms/step - loss: 0.4079\n",
      "Epoch 7/50\n",
      "250/250 [==============================] - 1s 2ms/step - loss: 0.3979\n",
      "Epoch 8/50\n",
      "250/250 [==============================] - 1s 3ms/step - loss: 0.3897\n",
      "Epoch 9/50\n",
      "250/250 [==============================] - 1s 3ms/step - loss: 0.3831\n",
      "Epoch 10/50\n",
      "250/250 [==============================] - 1s 3ms/step - loss: 0.3778\n",
      "Epoch 11/50\n",
      "250/250 [==============================] - 1s 3ms/step - loss: 0.3733\n",
      "Epoch 12/50\n",
      "250/250 [==============================] - 1s 3ms/step - loss: 0.3698\n",
      "Epoch 13/50\n",
      "250/250 [==============================] - 1s 4ms/step - loss: 0.3673\n",
      "Epoch 14/50\n",
      "250/250 [==============================] - 1s 3ms/step - loss: 0.3651\n",
      "Epoch 15/50\n",
      "250/250 [==============================] - 1s 3ms/step - loss: 0.3634\n",
      "Epoch 16/50\n",
      "250/250 [==============================] - 1s 3ms/step - loss: 0.3624\n",
      "Epoch 17/50\n",
      "250/250 [==============================] - 1s 3ms/step - loss: 0.3616\n",
      "Epoch 18/50\n",
      "250/250 [==============================] - 1s 3ms/step - loss: 0.3608\n",
      "Epoch 19/50\n",
      "250/250 [==============================] - 1s 3ms/step - loss: 0.3602\n",
      "Epoch 20/50\n",
      "250/250 [==============================] - 1s 3ms/step - loss: 0.3597\n",
      "Epoch 21/50\n",
      "250/250 [==============================] - 1s 3ms/step - loss: 0.3592\n",
      "Epoch 22/50\n",
      "250/250 [==============================] - 1s 3ms/step - loss: 0.3586\n",
      "Epoch 23/50\n",
      "250/250 [==============================] - 1s 3ms/step - loss: 0.3584\n",
      "Epoch 24/50\n",
      "250/250 [==============================] - 1s 3ms/step - loss: 0.3581\n",
      "Epoch 25/50\n",
      "250/250 [==============================] - 1s 3ms/step - loss: 0.3579\n",
      "Epoch 26/50\n",
      "250/250 [==============================] - 1s 3ms/step - loss: 0.3575\n",
      "Epoch 27/50\n",
      "250/250 [==============================] - 1s 3ms/step - loss: 0.3574\n",
      "Epoch 28/50\n",
      "250/250 [==============================] - 1s 3ms/step - loss: 0.3572\n",
      "Epoch 29/50\n",
      "250/250 [==============================] - 1s 3ms/step - loss: 0.3571\n",
      "Epoch 30/50\n",
      "250/250 [==============================] - 1s 3ms/step - loss: 0.3569\n",
      "Epoch 31/50\n",
      "250/250 [==============================] - 1s 3ms/step - loss: 0.3569\n",
      "Epoch 32/50\n",
      "250/250 [==============================] - 1s 3ms/step - loss: 0.3569\n",
      "Epoch 33/50\n",
      "250/250 [==============================] - 1s 3ms/step - loss: 0.3568\n",
      "Epoch 34/50\n",
      "250/250 [==============================] - 1s 3ms/step - loss: 0.3565\n",
      "Epoch 35/50\n",
      "250/250 [==============================] - 1s 3ms/step - loss: 0.3564\n",
      "Epoch 36/50\n",
      "250/250 [==============================] - 1s 3ms/step - loss: 0.3564\n",
      "Epoch 37/50\n",
      "250/250 [==============================] - 1s 3ms/step - loss: 0.3561\n",
      "Epoch 38/50\n",
      "250/250 [==============================] - 1s 3ms/step - loss: 0.3563\n",
      "Epoch 39/50\n",
      "250/250 [==============================] - 1s 2ms/step - loss: 0.3560\n",
      "Epoch 40/50\n",
      "250/250 [==============================] - 1s 2ms/step - loss: 0.3559\n",
      "Epoch 41/50\n",
      "250/250 [==============================] - 1s 2ms/step - loss: 0.3559\n",
      "Epoch 42/50\n",
      "250/250 [==============================] - 1s 2ms/step - loss: 0.3559\n",
      "Epoch 43/50\n",
      "250/250 [==============================] - 1s 2ms/step - loss: 0.3559\n",
      "Epoch 44/50\n",
      "250/250 [==============================] - 1s 2ms/step - loss: 0.3556\n",
      "Epoch 45/50\n",
      "250/250 [==============================] - 1s 2ms/step - loss: 0.3557\n",
      "Epoch 46/50\n",
      "250/250 [==============================] - 1s 3ms/step - loss: 0.3555\n",
      "Epoch 47/50\n",
      "250/250 [==============================] - 1s 2ms/step - loss: 0.3554\n",
      "Epoch 48/50\n",
      "250/250 [==============================] - 1s 2ms/step - loss: 0.3557\n",
      "Epoch 49/50\n",
      "250/250 [==============================] - 1s 2ms/step - loss: 0.3555\n",
      "Epoch 50/50\n",
      "250/250 [==============================] - 1s 2ms/step - loss: 0.3553\n"
     ]
    },
    {
     "data": {
      "text/plain": [
       "<keras.callbacks.History at 0x210bfa613d0>"
      ]
     },
     "execution_count": 13,
     "metadata": {},
     "output_type": "execute_result"
    }
   ],
   "source": [
    "#Initialize ann model\n",
    "ann = Sequential()\n",
    "\n",
    "#Add hidden layers\n",
    "ann.add(Dense(units=6, activation='relu'))\n",
    "\n",
    "#Add output layer\n",
    "ann.add(Dense(units=1,activation='sigmoid'))\n",
    "\n",
    "#Establish the connection between layers\n",
    "ann.compile(optimizer='adam',loss='binary_crossentropy')\n",
    "\n",
    "#Fit the data \n",
    "ann.fit(xtrain,ytrain,epochs=50)"
   ]
  },
  {
   "cell_type": "code",
   "execution_count": 14,
   "id": "227ba54a",
   "metadata": {
    "ExecuteTime": {
     "end_time": "2023-02-06T06:47:04.252071Z",
     "start_time": "2023-02-06T06:47:03.551099Z"
    }
   },
   "outputs": [
    {
     "name": "stdout",
     "output_type": "stream",
     "text": [
      "63/63 [==============================] - 0s 3ms/step\n"
     ]
    },
    {
     "data": {
      "text/plain": [
       "array([[False],\n",
       "       [False],\n",
       "       [False],\n",
       "       ...,\n",
       "       [False],\n",
       "       [False],\n",
       "       [False]])"
      ]
     },
     "execution_count": 14,
     "metadata": {},
     "output_type": "execute_result"
    }
   ],
   "source": [
    "ypred = ann.predict(xtest)\n",
    "ypred = ypred > 0.5\n",
    "ypred"
   ]
  },
  {
   "cell_type": "code",
   "execution_count": 15,
   "id": "0ddd3bc5",
   "metadata": {
    "ExecuteTime": {
     "end_time": "2023-02-06T06:47:14.357110Z",
     "start_time": "2023-02-06T06:47:14.310956Z"
    }
   },
   "outputs": [
    {
     "name": "stdout",
     "output_type": "stream",
     "text": [
      "              precision    recall  f1-score   support\n",
      "\n",
      "           0       0.86      0.97      0.91      1585\n",
      "           1       0.80      0.40      0.53       415\n",
      "\n",
      "    accuracy                           0.85      2000\n",
      "   macro avg       0.83      0.68      0.72      2000\n",
      "weighted avg       0.85      0.85      0.83      2000\n",
      "\n"
     ]
    }
   ],
   "source": [
    "print(classification_report(ytest,ypred))"
   ]
  },
  {
   "cell_type": "markdown",
   "id": "82fa8cda",
   "metadata": {},
   "source": [
    "# Regression"
   ]
  },
  {
   "cell_type": "code",
   "execution_count": 16,
   "id": "94c9f401",
   "metadata": {
    "ExecuteTime": {
     "end_time": "2023-02-06T06:47:37.751763Z",
     "start_time": "2023-02-06T06:47:37.700795Z"
    }
   },
   "outputs": [
    {
     "data": {
      "text/html": [
       "<div>\n",
       "<style scoped>\n",
       "    .dataframe tbody tr th:only-of-type {\n",
       "        vertical-align: middle;\n",
       "    }\n",
       "\n",
       "    .dataframe tbody tr th {\n",
       "        vertical-align: top;\n",
       "    }\n",
       "\n",
       "    .dataframe thead th {\n",
       "        text-align: right;\n",
       "    }\n",
       "</style>\n",
       "<table border=\"1\" class=\"dataframe\">\n",
       "  <thead>\n",
       "    <tr style=\"text-align: right;\">\n",
       "      <th></th>\n",
       "      <th>price</th>\n",
       "      <th>feature1</th>\n",
       "      <th>feature2</th>\n",
       "    </tr>\n",
       "  </thead>\n",
       "  <tbody>\n",
       "    <tr>\n",
       "      <th>0</th>\n",
       "      <td>461.527929</td>\n",
       "      <td>999.787558</td>\n",
       "      <td>999.766096</td>\n",
       "    </tr>\n",
       "    <tr>\n",
       "      <th>1</th>\n",
       "      <td>548.130012</td>\n",
       "      <td>998.861615</td>\n",
       "      <td>1001.042403</td>\n",
       "    </tr>\n",
       "    <tr>\n",
       "      <th>2</th>\n",
       "      <td>410.297162</td>\n",
       "      <td>1000.070267</td>\n",
       "      <td>998.844015</td>\n",
       "    </tr>\n",
       "    <tr>\n",
       "      <th>3</th>\n",
       "      <td>540.382220</td>\n",
       "      <td>999.952251</td>\n",
       "      <td>1000.440940</td>\n",
       "    </tr>\n",
       "    <tr>\n",
       "      <th>4</th>\n",
       "      <td>546.024553</td>\n",
       "      <td>1000.446011</td>\n",
       "      <td>1000.338531</td>\n",
       "    </tr>\n",
       "    <tr>\n",
       "      <th>...</th>\n",
       "      <td>...</td>\n",
       "      <td>...</td>\n",
       "      <td>...</td>\n",
       "    </tr>\n",
       "    <tr>\n",
       "      <th>995</th>\n",
       "      <td>476.526078</td>\n",
       "      <td>1000.018988</td>\n",
       "      <td>999.672732</td>\n",
       "    </tr>\n",
       "    <tr>\n",
       "      <th>996</th>\n",
       "      <td>457.313186</td>\n",
       "      <td>998.855379</td>\n",
       "      <td>1000.020026</td>\n",
       "    </tr>\n",
       "    <tr>\n",
       "      <th>997</th>\n",
       "      <td>456.720993</td>\n",
       "      <td>1001.451646</td>\n",
       "      <td>998.847605</td>\n",
       "    </tr>\n",
       "    <tr>\n",
       "      <th>998</th>\n",
       "      <td>403.315576</td>\n",
       "      <td>1000.771023</td>\n",
       "      <td>998.562851</td>\n",
       "    </tr>\n",
       "    <tr>\n",
       "      <th>999</th>\n",
       "      <td>599.367094</td>\n",
       "      <td>999.232244</td>\n",
       "      <td>1001.451407</td>\n",
       "    </tr>\n",
       "  </tbody>\n",
       "</table>\n",
       "<p>1000 rows × 3 columns</p>\n",
       "</div>"
      ],
      "text/plain": [
       "          price     feature1     feature2\n",
       "0    461.527929   999.787558   999.766096\n",
       "1    548.130012   998.861615  1001.042403\n",
       "2    410.297162  1000.070267   998.844015\n",
       "3    540.382220   999.952251  1000.440940\n",
       "4    546.024553  1000.446011  1000.338531\n",
       "..          ...          ...          ...\n",
       "995  476.526078  1000.018988   999.672732\n",
       "996  457.313186   998.855379  1000.020026\n",
       "997  456.720993  1001.451646   998.847605\n",
       "998  403.315576  1000.771023   998.562851\n",
       "999  599.367094   999.232244  1001.451407\n",
       "\n",
       "[1000 rows x 3 columns]"
      ]
     },
     "execution_count": 16,
     "metadata": {},
     "output_type": "execute_result"
    }
   ],
   "source": [
    "df = pd.read_csv('Regression.csv')\n",
    "df"
   ]
  },
  {
   "cell_type": "code",
   "execution_count": 17,
   "id": "93a46a1a",
   "metadata": {
    "ExecuteTime": {
     "end_time": "2023-02-06T06:47:47.496993Z",
     "start_time": "2023-02-06T06:47:47.490002Z"
    }
   },
   "outputs": [],
   "source": [
    "import numpy as np\n",
    "sc = StandardScaler()"
   ]
  },
  {
   "cell_type": "code",
   "execution_count": 18,
   "id": "7de49bd8",
   "metadata": {
    "ExecuteTime": {
     "end_time": "2023-02-06T06:47:57.200825Z",
     "start_time": "2023-02-06T06:47:57.189832Z"
    }
   },
   "outputs": [],
   "source": [
    "x = df.iloc[:,1:]\n",
    "y = df.iloc[:,0]"
   ]
  },
  {
   "cell_type": "code",
   "execution_count": 19,
   "id": "4bbbe272",
   "metadata": {
    "ExecuteTime": {
     "end_time": "2023-02-06T06:48:04.883110Z",
     "start_time": "2023-02-06T06:48:04.867487Z"
    }
   },
   "outputs": [],
   "source": [
    "x = sc.fit_transform(x)"
   ]
  },
  {
   "cell_type": "code",
   "execution_count": 20,
   "id": "aa5c3043",
   "metadata": {
    "ExecuteTime": {
     "end_time": "2023-02-06T06:48:13.917316Z",
     "start_time": "2023-02-06T06:48:13.899308Z"
    }
   },
   "outputs": [],
   "source": [
    "xtrain,xtest,ytrain,ytest = train_test_split(x,y,test_size=0.2,random_state=1)"
   ]
  },
  {
   "cell_type": "code",
   "execution_count": 21,
   "id": "7c72431e",
   "metadata": {
    "ExecuteTime": {
     "end_time": "2023-02-06T06:48:32.949936Z",
     "start_time": "2023-02-06T06:48:24.697962Z"
    }
   },
   "outputs": [
    {
     "name": "stdout",
     "output_type": "stream",
     "text": [
      "Epoch 1/50\n",
      "25/25 [==============================] - 2s 21ms/step - loss: 255378.9219 - val_loss: 262105.0781\n",
      "Epoch 2/50\n",
      "25/25 [==============================] - 0s 7ms/step - loss: 254719.8750 - val_loss: 261406.1406\n",
      "Epoch 3/50\n",
      "25/25 [==============================] - 0s 6ms/step - loss: 253844.4844 - val_loss: 260421.1250\n",
      "Epoch 4/50\n",
      "25/25 [==============================] - 0s 5ms/step - loss: 252591.9531 - val_loss: 259019.5625\n",
      "Epoch 5/50\n",
      "25/25 [==============================] - 0s 6ms/step - loss: 250808.5156 - val_loss: 257006.7812\n",
      "Epoch 6/50\n",
      "25/25 [==============================] - 0s 5ms/step - loss: 248267.4531 - val_loss: 254191.0781\n",
      "Epoch 7/50\n",
      "25/25 [==============================] - 0s 4ms/step - loss: 244755.9219 - val_loss: 250258.6875\n",
      "Epoch 8/50\n",
      "25/25 [==============================] - 0s 5ms/step - loss: 239947.8125 - val_loss: 244966.1250\n",
      "Epoch 9/50\n",
      "25/25 [==============================] - 0s 5ms/step - loss: 233499.7812 - val_loss: 238083.0156\n",
      "Epoch 10/50\n",
      "25/25 [==============================] - 0s 6ms/step - loss: 225320.0781 - val_loss: 229301.3594\n",
      "Epoch 11/50\n",
      "25/25 [==============================] - 0s 6ms/step - loss: 215258.0781 - val_loss: 218683.0781\n",
      "Epoch 12/50\n",
      "25/25 [==============================] - 0s 5ms/step - loss: 203288.0781 - val_loss: 206378.0469\n",
      "Epoch 13/50\n",
      "25/25 [==============================] - 0s 6ms/step - loss: 189618.4375 - val_loss: 192462.4531\n",
      "Epoch 14/50\n",
      "25/25 [==============================] - 0s 6ms/step - loss: 174614.2031 - val_loss: 176753.0469\n",
      "Epoch 15/50\n",
      "25/25 [==============================] - 0s 5ms/step - loss: 158297.6875 - val_loss: 160113.1562\n",
      "Epoch 16/50\n",
      "25/25 [==============================] - 0s 4ms/step - loss: 141452.4219 - val_loss: 141980.2344\n",
      "Epoch 17/50\n",
      "25/25 [==============================] - 0s 6ms/step - loss: 124068.0391 - val_loss: 122736.6875\n",
      "Epoch 18/50\n",
      "25/25 [==============================] - 0s 6ms/step - loss: 106175.3906 - val_loss: 103574.2031\n",
      "Epoch 19/50\n",
      "25/25 [==============================] - 0s 5ms/step - loss: 88873.2578 - val_loss: 84637.6797\n",
      "Epoch 20/50\n",
      "25/25 [==============================] - 0s 5ms/step - loss: 71886.8281 - val_loss: 66056.3672\n",
      "Epoch 21/50\n",
      "25/25 [==============================] - 0s 5ms/step - loss: 55089.0703 - val_loss: 48729.1797\n",
      "Epoch 22/50\n",
      "25/25 [==============================] - 0s 6ms/step - loss: 39449.8359 - val_loss: 33247.2227\n",
      "Epoch 23/50\n",
      "25/25 [==============================] - 0s 4ms/step - loss: 26244.9180 - val_loss: 20905.7402\n",
      "Epoch 24/50\n",
      "25/25 [==============================] - 0s 5ms/step - loss: 16079.0752 - val_loss: 12232.6367\n",
      "Epoch 25/50\n",
      "25/25 [==============================] - 0s 5ms/step - loss: 9152.2822 - val_loss: 6623.6426\n",
      "Epoch 26/50\n",
      "25/25 [==============================] - 0s 5ms/step - loss: 4824.4512 - val_loss: 3320.1611\n",
      "Epoch 27/50\n",
      "25/25 [==============================] - 0s 5ms/step - loss: 2365.8191 - val_loss: 1572.7286\n",
      "Epoch 28/50\n",
      "25/25 [==============================] - 0s 5ms/step - loss: 1105.5646 - val_loss: 706.9943\n",
      "Epoch 29/50\n",
      "25/25 [==============================] - 0s 4ms/step - loss: 495.6324 - val_loss: 317.9398\n",
      "Epoch 30/50\n",
      "25/25 [==============================] - 0s 5ms/step - loss: 219.7195 - val_loss: 157.7366\n",
      "Epoch 31/50\n",
      "25/25 [==============================] - 0s 5ms/step - loss: 108.2572 - val_loss: 91.2896\n",
      "Epoch 32/50\n",
      "25/25 [==============================] - 0s 4ms/step - loss: 62.3387 - val_loss: 65.6310\n",
      "Epoch 33/50\n",
      "25/25 [==============================] - 0s 4ms/step - loss: 44.7765 - val_loss: 56.0091\n",
      "Epoch 34/50\n",
      "25/25 [==============================] - 0s 5ms/step - loss: 38.3921 - val_loss: 52.2974\n",
      "Epoch 35/50\n",
      "25/25 [==============================] - 0s 5ms/step - loss: 35.9232 - val_loss: 51.0779\n",
      "Epoch 36/50\n",
      "25/25 [==============================] - 0s 5ms/step - loss: 35.0572 - val_loss: 50.4364\n",
      "Epoch 37/50\n",
      "25/25 [==============================] - 0s 4ms/step - loss: 34.6945 - val_loss: 50.2853\n",
      "Epoch 38/50\n",
      "25/25 [==============================] - 0s 4ms/step - loss: 34.4097 - val_loss: 50.1499\n",
      "Epoch 39/50\n",
      "25/25 [==============================] - 0s 4ms/step - loss: 34.2449 - val_loss: 49.9502\n",
      "Epoch 40/50\n",
      "25/25 [==============================] - 0s 4ms/step - loss: 34.1150 - val_loss: 49.7307\n",
      "Epoch 41/50\n",
      "25/25 [==============================] - 0s 4ms/step - loss: 34.0000 - val_loss: 49.6727\n",
      "Epoch 42/50\n",
      "25/25 [==============================] - 0s 4ms/step - loss: 33.8464 - val_loss: 49.3693\n",
      "Epoch 43/50\n",
      "25/25 [==============================] - 0s 4ms/step - loss: 33.8889 - val_loss: 48.9861\n",
      "Epoch 44/50\n",
      "25/25 [==============================] - 0s 5ms/step - loss: 33.5560 - val_loss: 48.9272\n",
      "Epoch 45/50\n",
      "25/25 [==============================] - 0s 4ms/step - loss: 33.5055 - val_loss: 48.7029\n",
      "Epoch 46/50\n",
      "25/25 [==============================] - 0s 5ms/step - loss: 33.3284 - val_loss: 48.3916\n",
      "Epoch 47/50\n",
      "25/25 [==============================] - 0s 4ms/step - loss: 33.1412 - val_loss: 48.1192\n",
      "Epoch 48/50\n",
      "25/25 [==============================] - 0s 4ms/step - loss: 32.9944 - val_loss: 48.0560\n",
      "Epoch 49/50\n",
      "25/25 [==============================] - 0s 5ms/step - loss: 32.9023 - val_loss: 47.7983\n",
      "Epoch 50/50\n",
      "25/25 [==============================] - 0s 4ms/step - loss: 32.6764 - val_loss: 47.5133\n"
     ]
    },
    {
     "data": {
      "text/plain": [
       "<keras.callbacks.History at 0x210be8af970>"
      ]
     },
     "execution_count": 21,
     "metadata": {},
     "output_type": "execute_result"
    }
   ],
   "source": [
    "#Initialize ann model\n",
    "ann = Sequential()\n",
    "\n",
    "#Add hidden layers\n",
    "ann.add(Dense(units=30, activation='linear'))\n",
    "ann.add(Dense(units=20, activation='relu'))\n",
    "\n",
    "#Add output layer\n",
    "ann.add(Dense(units=1))\n",
    "\n",
    "#Establish the connection between layers\n",
    "ann.compile(optimizer='adam',loss='mse')\n",
    "\n",
    "#Fit the data \n",
    "ann.fit(xtrain,ytrain,validation_data=(xtest,ytest),epochs=50)"
   ]
  },
  {
   "cell_type": "code",
   "execution_count": 22,
   "id": "b862291c",
   "metadata": {
    "ExecuteTime": {
     "end_time": "2023-02-06T06:48:41.779297Z",
     "start_time": "2023-02-06T06:48:39.062604Z"
    }
   },
   "outputs": [
    {
     "data": {
      "text/plain": [
       "<AxesSubplot:>"
      ]
     },
     "execution_count": 22,
     "metadata": {},
     "output_type": "execute_result"
    },
    {
     "data": {
      "image/png": "[encoded data removed]",
      "text/plain": [
       "<Figure size 640x480 with 1 Axes>"
      ]
     },
     "metadata": {},
     "output_type": "display_data"
    }
   ],
   "source": [
    "loss = pd.DataFrame(ann.history.history)\n",
    "loss.plot()"
   ]
  },
  {
   "cell_type": "code",
   "execution_count": 23,
   "id": "28411d44",
   "metadata": {
    "ExecuteTime": {
     "end_time": "2023-02-06T06:48:51.624510Z",
     "start_time": "2023-02-06T06:48:51.178101Z"
    }
   },
   "outputs": [
    {
     "name": "stdout",
     "output_type": "stream",
     "text": [
      "7/7 [==============================] - 0s 2ms/step\n"
     ]
    }
   ],
   "source": [
    "ypred = ann.predict(xtest)"
   ]
  },
  {
   "cell_type": "code",
   "execution_count": 24,
   "id": "fdd90b20",
   "metadata": {
    "ExecuteTime": {
     "end_time": "2023-02-06T06:49:00.365052Z",
     "start_time": "2023-02-06T06:49:00.338064Z"
    }
   },
   "outputs": [
    {
     "data": {
      "text/plain": [
       "array([[481.93268],\n",
       "       [526.9488 ],\n",
       "       [500.88922],\n",
       "       [540.7928 ],\n",
       "       [653.55023],\n",
       "       [335.14288],\n",
       "       [261.84756],\n",
       "       [383.23056],\n",
       "       [711.39703],\n",
       "       [508.67377],\n",
       "       [484.8117 ],\n",
       "       [509.78494],\n",
       "       [500.88153],\n",
       "       [366.1725 ],\n",
       "       [548.5832 ],\n",
       "       [497.72144],\n",
       "       [577.0208 ],\n",
       "       [550.03644],\n",
       "       [488.09247],\n",
       "       [502.17212],\n",
       "       [470.89975],\n",
       "       [605.3927 ],\n",
       "       [445.47867],\n",
       "       [580.48517],\n",
       "       [429.89227],\n",
       "       [523.9006 ],\n",
       "       [393.495  ],\n",
       "       [506.06418],\n",
       "       [543.6249 ],\n",
       "       [353.13654],\n",
       "       [446.57312],\n",
       "       [639.6961 ],\n",
       "       [561.96857],\n",
       "       [541.1803 ],\n",
       "       [606.68085],\n",
       "       [555.1506 ],\n",
       "       [408.13553],\n",
       "       [572.9447 ],\n",
       "       [563.4746 ],\n",
       "       [526.7553 ],\n",
       "       [429.47333],\n",
       "       [719.6098 ],\n",
       "       [526.4144 ],\n",
       "       [532.46814],\n",
       "       [522.25555],\n",
       "       [464.28104],\n",
       "       [532.1705 ],\n",
       "       [530.2544 ],\n",
       "       [586.79706],\n",
       "       [470.53253],\n",
       "       [390.22437],\n",
       "       [627.65546],\n",
       "       [772.6768 ],\n",
       "       [534.79486],\n",
       "       [651.1084 ],\n",
       "       [543.3798 ],\n",
       "       [492.8769 ],\n",
       "       [546.0194 ],\n",
       "       [550.01984],\n",
       "       [383.28857],\n",
       "       [640.12244],\n",
       "       [475.07437],\n",
       "       [479.14252],\n",
       "       [508.27234],\n",
       "       [562.5429 ],\n",
       "       [335.62817],\n",
       "       [555.23303],\n",
       "       [549.6219 ],\n",
       "       [448.15604],\n",
       "       [598.1135 ],\n",
       "       [562.8271 ],\n",
       "       [423.14404],\n",
       "       [463.63217],\n",
       "       [668.0048 ],\n",
       "       [408.71082],\n",
       "       [551.6371 ],\n",
       "       [309.25623],\n",
       "       [455.13806],\n",
       "       [603.88007],\n",
       "       [541.3922 ],\n",
       "       [421.4961 ],\n",
       "       [445.95508],\n",
       "       [355.85187],\n",
       "       [428.9209 ],\n",
       "       [405.73724],\n",
       "       [661.44525],\n",
       "       [391.20575],\n",
       "       [557.63025],\n",
       "       [569.2434 ],\n",
       "       [376.93372],\n",
       "       [420.4868 ],\n",
       "       [508.24692],\n",
       "       [550.5087 ],\n",
       "       [564.3697 ],\n",
       "       [722.2564 ],\n",
       "       [540.4995 ],\n",
       "       [615.52405],\n",
       "       [617.19806],\n",
       "       [621.9901 ],\n",
       "       [541.4268 ],\n",
       "       [502.2896 ],\n",
       "       [524.1182 ],\n",
       "       [581.4429 ],\n",
       "       [437.90506],\n",
       "       [609.8652 ],\n",
       "       [414.86243],\n",
       "       [369.98874],\n",
       "       [438.49646],\n",
       "       [419.3896 ],\n",
       "       [491.6912 ],\n",
       "       [473.7695 ],\n",
       "       [417.307  ],\n",
       "       [481.2701 ],\n",
       "       [395.88867],\n",
       "       [314.2787 ],\n",
       "       [590.6693 ],\n",
       "       [499.6507 ],\n",
       "       [388.37872],\n",
       "       [415.49017],\n",
       "       [554.1235 ],\n",
       "       [480.30228],\n",
       "       [461.51923],\n",
       "       [536.9262 ],\n",
       "       [542.83887],\n",
       "       [567.1927 ],\n",
       "       [504.57245],\n",
       "       [514.19775],\n",
       "       [396.10944],\n",
       "       [562.4151 ],\n",
       "       [587.2103 ],\n",
       "       [592.1549 ],\n",
       "       [444.47827],\n",
       "       [561.0944 ],\n",
       "       [397.48236],\n",
       "       [458.16748],\n",
       "       [647.73065],\n",
       "       [617.4808 ],\n",
       "       [506.6444 ],\n",
       "       [608.29694],\n",
       "       [604.2945 ],\n",
       "       [577.6407 ],\n",
       "       [465.7357 ],\n",
       "       [650.29095],\n",
       "       [351.26465],\n",
       "       [489.61453],\n",
       "       [542.1745 ],\n",
       "       [529.51746],\n",
       "       [578.0253 ],\n",
       "       [644.55414],\n",
       "       [500.7433 ],\n",
       "       [486.7638 ],\n",
       "       [503.57224],\n",
       "       [361.93518],\n",
       "       [483.01575],\n",
       "       [553.758  ],\n",
       "       [462.8536 ],\n",
       "       [599.76654],\n",
       "       [569.7186 ],\n",
       "       [459.69766],\n",
       "       [449.4121 ],\n",
       "       [456.5384 ],\n",
       "       [535.4661 ],\n",
       "       [395.66   ],\n",
       "       [510.15695],\n",
       "       [472.92474],\n",
       "       [358.7312 ],\n",
       "       [543.237  ],\n",
       "       [401.82587],\n",
       "       [622.37335],\n",
       "       [624.9969 ],\n",
       "       [417.22943],\n",
       "       [470.117  ],\n",
       "       [501.08093],\n",
       "       [463.79285],\n",
       "       [407.20703],\n",
       "       [618.20306],\n",
       "       [523.70447],\n",
       "       [640.59625],\n",
       "       [338.39465],\n",
       "       [445.62735],\n",
       "       [464.89914],\n",
       "       [324.09616],\n",
       "       [310.01193],\n",
       "       [548.68005],\n",
       "       [508.61346],\n",
       "       [503.5689 ],\n",
       "       [479.4489 ],\n",
       "       [512.1819 ],\n",
       "       [517.861  ],\n",
       "       [370.06073],\n",
       "       [443.47873],\n",
       "       [519.2076 ],\n",
       "       [507.79205],\n",
       "       [550.23456],\n",
       "       [444.70587],\n",
       "       [456.19598],\n",
       "       [583.9167 ],\n",
       "       [492.4057 ],\n",
       "       [512.1315 ],\n",
       "       [461.357  ]], dtype=float32)"
      ]
     },
     "execution_count": 24,
     "metadata": {},
     "output_type": "execute_result"
    }
   ],
   "source": [
    "ypred"
   ]
  },
  {
   "cell_type": "code",
   "execution_count": null,
   "id": "66f2d8eb",
   "metadata": {},
   "outputs": [],
   "source": []
  }
 ],
 "metadata": {
  "kernelspec": {
   "display_name": "Python 3 (ipykernel)",
   "language": "python",
   "name": "python3"
  },
  "language_info": {
   "codemirror_mode": {
    "name": "ipython",
    "version": 3
   },
   "file_extension": ".py",
   "mimetype": "text/x-python",
   "name": "python",
   "nbconvert_exporter": "python",
   "pygments_lexer": "ipython3",
   "version": "3.9.13"
  }
 },
 "nbformat": 4,
 "nbformat_minor": 5
}
